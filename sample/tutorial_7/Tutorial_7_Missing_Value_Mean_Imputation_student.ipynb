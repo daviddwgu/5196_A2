{
 "cells": [
  {
   "cell_type": "markdown",
   "metadata": {},
   "source": [
    "# Missing values and imputation\n",
    "\n",
    "\n",
    "## Missing values\n",
    "\n",
    "**Source of missing values:**\n",
    "\n",
    "* Data Extraction: It is possible that there are problems with extraction process. In such cases, we should double-check for correct data with data guardians. Some hashing procedures can also be used to make sure that data extraction is correct. Errors at data extraction stage are typically easy to find and can be corrected easily as well.\n",
    "* Data collection: These errors occur at time of data collection and are harder to correct. They can be categorized in four types:\n",
    ">* Missing completely at random: This is a case when the probability of missing variable is same for all observations. For example: respondents of data collection process decide that they will declare their earning after tossing a fair coin. If an head occurs, respondent declares his / her earnings & vice versa. Here each observation has equal chance of missing value.\n",
    ">* Missing at random: This is a case when variable is missing at random and missing ratio varies for different values / level of other input variables. For example: We are collecting data for age and female has higher missing value compare to male.\n",
    ">* Missing that depends on unobserved predictors: This is a case when the missing values are not random and are related to the unobserved input variable. For example: In a medical study, if a particular diagnostic causes discomfort, then there is higher chance of drop out from the study. This missing value is not at random unless we have included “discomfort” as an input variable for all patients.\n",
    ">* Missing that depends on the missing value itself: This is a case when the probability of missing value is directly correlated with missing value itself. For example: People with higher or lower income are likely to provide non-response to their earning.\n",
    "\n",
    "We are going to use the Titanic dataset again in this tutorial to explore missing data."
   ]
  },
  {
   "cell_type": "code",
   "execution_count": null,
   "metadata": {},
   "outputs": [],
   "source": [
    "#import library \n",
    "import pandas as pd\n",
    "import numpy as np"
   ]
  },
  {
   "cell_type": "code",
   "execution_count": null,
   "metadata": {},
   "outputs": [],
   "source": [
    "#load the data \n",
    "df1 = pd.read_csv('titanic passenger list.csv') "
   ]
  },
  {
   "cell_type": "markdown",
   "metadata": {},
   "source": [
    "We would normally check some data basics before analysis, such as \n",
    "* length (rows)\n",
    "* width (or columns)\n",
    "* column types\n",
    "* basic stats\n",
    "* head & tail of data\n",
    "\n",
    "We will skip this step in this tutorial."
   ]
  },
  {
   "cell_type": "markdown",
   "metadata": {},
   "source": [
    "## Task 1 Check missing values \n",
    "\n",
    "\n",
    "** info()**\n",
    "* tells us total number of records\n",
    "* gives us details on datatype, 'object' here means string, the others are int and float\n",
    "* also include see 'non-null' observations for each data column\n",
    "\n",
    "** describe() **by default tabulates numeric data, which report on:\n",
    "* descriptive statistics \n",
    "* number of non-null observations in \"count\"\n",
    "* with \"include='all'\" will include all columns and \"include=['O']\" will include objects\n",
    "\n",
    "**.isnull().sum()***\n",
    "* will return sum of missing values for each column\n",
    "\n"
   ]
  },
  {
   "cell_type": "code",
   "execution_count": null,
   "metadata": {},
   "outputs": [],
   "source": []
  },
  {
   "cell_type": "markdown",
   "metadata": {},
   "source": [
    "There are 1309 x 14 records and there are many missing values in \"age\",\"fare\" (one record) \"cabin\", \"boat\" \"body\" and \"home.dest\"."
   ]
  },
  {
   "cell_type": "code",
   "execution_count": null,
   "metadata": {},
   "outputs": [],
   "source": []
  },
  {
   "cell_type": "code",
   "execution_count": null,
   "metadata": {},
   "outputs": [],
   "source": [
    " # 'O' for Objects"
   ]
  },
  {
   "cell_type": "code",
   "execution_count": null,
   "metadata": {},
   "outputs": [],
   "source": []
  },
  {
   "cell_type": "markdown",
   "metadata": {},
   "source": [
    "\n",
    "#### Which of these are potentially imputatable i.e. we can derive values from existing data?\n"
   ]
  },
  {
   "cell_type": "markdown",
   "metadata": {},
   "source": [
    "## Task 2 investigate with missing values for ages\n",
    "\n",
    "Titanic data is commonly used for predictive analytics, e.g. remove the 'survived' column and feed the other data into an algorithm to see if there are any predictors for survival, pclass was a factor, also gender, age another (and if you ever go on a cruise ship change your name to \"Womenandchildren\").\n",
    "\n",
    "Age are mostly missing. Should we just delete or do something basic like:  \n",
    "\n",
    "meanAge = np.mean(df1.age)\n",
    "\n",
    "df1.age = df1.age.fillna(meanAge) \n",
    "\n",
    "### Discussion:\n",
    "\n",
    "* **What's wrong with this approach?**\n",
    "\n",
    "* **What is the average age anyway?**\n",
    "\n",
    "*  **What is the average age for males, for females? Is that an improvement?**\n"
   ]
  },
  {
   "cell_type": "code",
   "execution_count": null,
   "metadata": {},
   "outputs": [],
   "source": []
  },
  {
   "cell_type": "code",
   "execution_count": null,
   "metadata": {},
   "outputs": [],
   "source": [
    "# age - we know there are some missing, let's dig deeper\n"
   ]
  },
  {
   "cell_type": "code",
   "execution_count": null,
   "metadata": {},
   "outputs": [],
   "source": [
    "# mostly younger, 20s to 30s\n"
   ]
  },
  {
   "cell_type": "markdown",
   "metadata": {},
   "source": [
    "Notice the 'nan' above, it doesn't occur in counts() \n",
    "\n",
    "### Discussion:\n",
    "*  How many 'NaN' values for age are there?\n",
    "*  How many 0?\n",
    "*  How many < 1?\n",
    "*  What does 'NaN' mean?\n",
    "*  Is NaN == NaN true in Python?"
   ]
  },
  {
   "cell_type": "code",
   "execution_count": null,
   "metadata": {},
   "outputs": [],
   "source": []
  },
  {
   "cell_type": "code",
   "execution_count": null,
   "metadata": {},
   "outputs": [],
   "source": []
  },
  {
   "cell_type": "markdown",
   "metadata": {},
   "source": [
    "#### What does age = 0.17 mean?"
   ]
  },
  {
   "cell_type": "code",
   "execution_count": null,
   "metadata": {
    "collapsed": true
   },
   "outputs": [],
   "source": [
    "%matplotlib inline"
   ]
  },
  {
   "cell_type": "code",
   "execution_count": null,
   "metadata": {},
   "outputs": [],
   "source": [
    "df1['age'].hist()"
   ]
  },
  {
   "cell_type": "code",
   "execution_count": null,
   "metadata": {},
   "outputs": [],
   "source": [
    "sum(df1['age'].isnull())\n",
    "# 263 passengers have no age recorded."
   ]
  },
  {
   "cell_type": "markdown",
   "metadata": {},
   "source": [
    "### Let's look at other factors, e.g. names can give a clue because most passengers seem to have a title (e.g. 'Mrs')\n",
    "\n",
    "### Discussion:\n",
    "\n",
    "* Can we assume that 'Mrs' implies married (implies not a child)?\n",
    "\n",
    "* What about 'Miss' or 'Ms'?\n"
   ]
  },
  {
   "cell_type": "code",
   "execution_count": null,
   "metadata": {},
   "outputs": [],
   "source": [
    "# Look into titles, e.g. 'Mrs' implies married (implies not child)\n",
    "def name_extract(word):\n",
    "     return word.split(',')[1].split('.')[0].strip()\n",
    "    \n",
    "# because names are in this format:\n",
    "# Allison, Master. Hudson Trevor\n",
    "# we can split on ','\n",
    "# then '.'"
   ]
  },
  {
   "cell_type": "code",
   "execution_count": null,
   "metadata": {},
   "outputs": [],
   "source": [
    "# testing, apply the method to the data\n",
    "temp =  \n",
    "# check unique values\n",
    "temp['Title'].unique()"
   ]
  },
  {
   "cell_type": "code",
   "execution_count": null,
   "metadata": {},
   "outputs": [],
   "source": [
    "# a couple of strange ones but most of the standard titles are there\n"
   ]
  },
  {
   "cell_type": "code",
   "execution_count": null,
   "metadata": {},
   "outputs": [],
   "source": [
    "# did we miss any?\n"
   ]
  },
  {
   "cell_type": "markdown",
   "metadata": {},
   "source": [
    "### That worked really well, we have titles for everyone and there are only a few strange ones:\n",
    "\n",
    "Someone look up 'Jonkheer' (and Dona - Spanish?)\n",
    "\n",
    "#### So what can we say about 'Master'? Usually refers to boys?\n",
    "\n",
    "#### Dr, Rev, Col, Major, Capt, Sir, Don, would all be adults? \n",
    "\n",
    "Let's go ahead and apply this transformation:"
   ]
  },
  {
   "cell_type": "code",
   "execution_count": null,
   "metadata": {},
   "outputs": [],
   "source": [
    "df2 = df1 # copy then insert new column\n",
    "df2['Title'] = df1['name'].apply(name_extract)\n",
    "df2.head() # title at far right"
   ]
  },
  {
   "cell_type": "code",
   "execution_count": null,
   "metadata": {},
   "outputs": [],
   "source": [
    "# just check (again) we got most of them\n"
   ]
  },
  {
   "cell_type": "markdown",
   "metadata": {},
   "source": [
    "#### First let's check distribution of missing values across different titles"
   ]
  },
  {
   "cell_type": "code",
   "execution_count": null,
   "metadata": {},
   "outputs": [],
   "source": []
  },
  {
   "cell_type": "markdown",
   "metadata": {},
   "source": [
    "### We will first investigate missing values in doctors"
   ]
  },
  {
   "cell_type": "code",
   "execution_count": null,
   "metadata": {
    "scrolled": true
   },
   "outputs": [],
   "source": [
    "df2[df2['Title'] == \"Dr\"]"
   ]
  },
  {
   "cell_type": "markdown",
   "metadata": {},
   "source": [
    "Drs are mostly older (except for Dr Pain - hah)\n",
    "\n",
    "#### What's the average age of Drs?"
   ]
  },
  {
   "cell_type": "code",
   "execution_count": null,
   "metadata": {},
   "outputs": [],
   "source": []
  },
  {
   "cell_type": "markdown",
   "metadata": {},
   "source": [
    "The average age for all passengers is 29, for Drs it's 43, an improvement in fidelity?\n"
   ]
  },
  {
   "cell_type": "code",
   "execution_count": null,
   "metadata": {
    "scrolled": true
   },
   "outputs": [],
   "source": []
  },
  {
   "cell_type": "markdown",
   "metadata": {},
   "source": [
    "no missing values so move on..\n",
    "\n",
    "#### Your turn, look at 'Maj' and any other titles that suggest age\n"
   ]
  },
  {
   "cell_type": "markdown",
   "metadata": {},
   "source": [
    "## Missing values: ages for boys\n",
    "\n",
    "It seems, in this era (pre Jackie Chan), Master did mean boys "
   ]
  },
  {
   "cell_type": "code",
   "execution_count": null,
   "metadata": {},
   "outputs": [],
   "source": [
    "df2[df2['Title'] == \"Master\"] # how many?"
   ]
  },
  {
   "cell_type": "code",
   "execution_count": null,
   "metadata": {},
   "outputs": [],
   "source": [
    "#there are a lot, 61, use describe()\n",
    "df2[df2['Title'] == \"Master\"].describe() # min age is 0.33 (4 months?), max is 14.5, mean is 5.5"
   ]
  },
  {
   "cell_type": "code",
   "execution_count": null,
   "metadata": {},
   "outputs": [],
   "source": [
    "df2[df2['Title'] == \"Master\"].mean()"
   ]
  },
  {
   "cell_type": "markdown",
   "metadata": {},
   "source": [
    "### Discussion\n",
    "\n",
    "* How many boys don't have an age?\n",
    "* What does describe() (above) tell us about pclass, sibsp, parch?\n",
    "* Do any children not have any siblings or parents travelling with them?\n",
    "* Any other factors that can help determine (or impute) age?\n",
    "\n"
   ]
  },
  {
   "cell_type": "markdown",
   "metadata": {},
   "source": [
    "## Task 3 Mean imputation of age by title \n",
    "\n",
    "In this task you need to calculate the mean age for each title group and use the imputed values to replace the missing values in the corresponding group. "
   ]
  },
  {
   "cell_type": "code",
   "execution_count": null,
   "metadata": {},
   "outputs": [],
   "source": [
    "# this seems too easy, is it right? \n"
   ]
  },
  {
   "cell_type": "code",
   "execution_count": null,
   "metadata": {
    "collapsed": true
   },
   "outputs": [],
   "source": []
  },
  {
   "cell_type": "code",
   "execution_count": null,
   "metadata": {
    "collapsed": true
   },
   "outputs": [],
   "source": []
  }
 ],
 "metadata": {
  "anaconda-cloud": {},
  "kernelspec": {
   "display_name": "Python 3",
   "language": "python",
   "name": "python3"
  },
  "language_info": {
   "codemirror_mode": {
    "name": "ipython",
    "version": 3
   },
   "file_extension": ".py",
   "mimetype": "text/x-python",
   "name": "python",
   "nbconvert_exporter": "python",
   "pygments_lexer": "ipython3",
   "version": "3.7.3"
  },
  "name": "4.3 Missing values.ipynb"
 },
 "nbformat": 4,
 "nbformat_minor": 1
}
