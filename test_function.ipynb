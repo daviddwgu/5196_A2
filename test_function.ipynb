{
 "cells": [
  {
   "cell_type": "code",
   "execution_count": 1,
   "metadata": {},
   "outputs": [],
   "source": [
    "def check_weekday(date):\n",
    "    weekday = pd.to_datetime(date).weekday()\n",
    "    if weekday < 5:\n",
    "        return True\n",
    "    else:\n",
    "        return False\n",
    "    \n",
    "dirty_data[\"check_weekday\"] = dirty_data[\"Departure Date\"].apply(check_weekday)"
   ]
  },
  {
   "cell_type": "code",
   "execution_count": 6,
   "metadata": {},
   "outputs": [
    {
     "data": {
      "text/plain": [
       "2"
      ]
     },
     "execution_count": 6,
     "metadata": {},
     "output_type": "execute_result"
    }
   ],
   "source": [
    "import datetime\n",
    "import time\n",
    "def check_time(time):\n",
    "    time = datetime.datetime.strptime(time, '%H:%M:%S')\n",
    "    if (time >= datetime.datetime.strptime(\"06:00:00\", '%H:%M:%S')) & (time <= datetime.datetime.strptime(\"11:59:59\", '%H:%M:%S')):\n",
    "        return 0\n",
    "    elif (time >= datetime.datetime.strptime(\"12:00:00\", '%H:%M:%S')) & (time <= datetime.datetime.strptime(\"20:59:59\", '%H:%M:%S')):\n",
    "        return 1\n",
    "    else:\n",
    "        return 2\n",
    "\n",
    "check_time(\"05:36:39\")\n"
   ]
  },
  {
   "cell_type": "code",
   "execution_count": null,
   "metadata": {},
   "outputs": [],
   "source": [
    "orgin_compare = {}\n",
    "unmatch_org_result = {}\n",
    "for i in range(len(dirty_data)):\n",
    "    search_key = str(round(dirty_data.iloc[i, 4],6)) + \",\" +str(round(dirty_data.iloc[i, 5],6))\n",
    "    if search_key in orgin_compare.keys():\n",
    "        if dirty_data.iloc[i, 2] != orgin_compare[search_key]:\n",
    "            unmatch_org_result[search_key] = 1\n",
    "    else:\n",
    "        orgin_compare[search_key] = dirty_data.iloc[i, 2]\n",
    "unmatch_org_result\n",
    "\n",
    "orgin_compare = {}\n",
    "unmatch_org_result = {}\n",
    "for i in range(len(dirty_data)):\n",
    "    search_key = str(round(dirty_data.iloc[i, 4],6)) + \",\" +str(round(dirty_data.iloc[i, 5],6))\n",
    "    if search_key in orgin_compare.keys():\n",
    "        if dirty_data.iloc[i, 2] != orgin_compare[search_key]:\n",
    "            unmatch_org_result[search_key] = 1\n",
    "    else:\n",
    "        orgin_compare[search_key] = dirty_data.iloc[i, 2]\n",
    "unmatch_org_result"
   ]
  }
 ],
 "metadata": {
  "kernelspec": {
   "display_name": "Python 3",
   "language": "python",
   "name": "python3"
  },
  "language_info": {
   "codemirror_mode": {
    "name": "ipython",
    "version": 3
   },
   "file_extension": ".py",
   "mimetype": "text/x-python",
   "name": "python",
   "nbconvert_exporter": "python",
   "pygments_lexer": "ipython3",
   "version": "3.7.3"
  }
 },
 "nbformat": 4,
 "nbformat_minor": 2
}
